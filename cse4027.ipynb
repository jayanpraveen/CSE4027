{
  "cells": [
    {
      "cell_type": "code",
      "execution_count": null,
      "metadata": {
        "colab": {
          "base_uri": "https://localhost:8080/"
        },
        "id": "E2M6oSpR6M-1",
        "outputId": "db8ea16f-8abf-445b-b00a-9eaed693dbeb"
      },
      "outputs": [],
      "source": [
        "from google.colab import drive\n",
        "drive.mount('/content/drive')"
      ]
    },
    {
      "cell_type": "code",
      "execution_count": null,
      "metadata": {
        "id": "KCv6ZIgNO9lG"
      },
      "outputs": [],
      "source": [
        "import numpy as np\n",
        "import pandas as pd\n",
        "import matplotlib.pyplot as plt\n",
        "import os\n",
        "\n",
        "import keras\n",
        "from keras.preprocessing.image import ImageDataGenerator, img_to_array , load_img\n",
        "from keras.applications.vgg19 import VGG19, preprocess_input, decode_predictions"
      ]
    },
    {
      "cell_type": "code",
      "execution_count": null,
      "metadata": {
        "id": "XCj_1luS_OC0"
      },
      "outputs": [],
      "source": [
        "train_datagen = ImageDataGenerator(zoom_range = 0.5, shear_range = 0.3, preprocessing_function=preprocess_input)\n",
        "\n",
        "val_datagen = ImageDataGenerator(preprocessing_function=preprocess_input)"
      ]
    },
    {
      "cell_type": "code",
      "execution_count": null,
      "metadata": {
        "colab": {
          "base_uri": "https://localhost:8080/"
        },
        "id": "h6o7fa3vARnv",
        "outputId": "5316b560-56d9-443a-a79e-f868206d4842"
      },
      "outputs": [],
      "source": [
        "t_path = \"/content/drive/MyDrive/data/train/\"\n",
        "v_path = \"/content/drive/MyDrive/data/val/\"\n",
        "\n",
        "train = train_datagen.flow_from_directory(directory = t_path , target_size = (256, 256), batch_size = 32)\n",
        "\n",
        "val = train_datagen.flow_from_directory(directory = v_path , target_size = (256, 256), batch_size = 32)"
      ]
    },
    {
      "cell_type": "code",
      "execution_count": null,
      "metadata": {
        "id": "OsaRUsHyfZdC"
      },
      "outputs": [],
      "source": [
        "t_img, label = train.next();"
      ]
    },
    {
      "cell_type": "code",
      "execution_count": null,
      "metadata": {
        "id": "Sts5_vA7eGIN"
      },
      "outputs": [],
      "source": [
        "\n",
        "def plotImage(img_arr, label):\n",
        "  for i, l in zip(img_arr, label):\n",
        "    plt.figure(figsize=(5,5))\n",
        "    plt.imshow(i/255)\n",
        "    plt.show()"
      ]
    },
    {
      "cell_type": "code",
      "execution_count": null,
      "metadata": {
        "colab": {
          "base_uri": "https://localhost:8080/",
          "height": 986
        },
        "id": "FIzXyWZYfEUS",
        "outputId": "9918d468-f075-4b82-feac-72fcf5702400"
      },
      "outputs": [],
      "source": [
        "plotImage(t_img[:3], label[:3])"
      ]
    },
    {
      "cell_type": "markdown",
      "metadata": {
        "id": "PMcElPC0gYa0"
      },
      "source": [
        "# building the model"
      ]
    },
    {
      "cell_type": "code",
      "execution_count": null,
      "metadata": {
        "id": "mlrp5cAdgTdM"
      },
      "outputs": [],
      "source": [
        "from keras.layers import Dense, Flatten\n",
        "from keras.models import Model\n",
        "import keras"
      ]
    },
    {
      "cell_type": "code",
      "execution_count": null,
      "metadata": {
        "colab": {
          "base_uri": "https://localhost:8080/"
        },
        "id": "i07vOz_-gyTR",
        "outputId": "090601fa-44e9-4a14-c610-15c535b9b184"
      },
      "outputs": [],
      "source": [
        "base_model = VGG19(input_shape=(256,256,3), include_top=False)"
      ]
    },
    {
      "cell_type": "code",
      "execution_count": null,
      "metadata": {
        "id": "T2-Cq2XXg-jy"
      },
      "outputs": [],
      "source": [
        "for layer in base_model.layers:\n",
        "  layer.trainable = False"
      ]
    },
    {
      "cell_type": "code",
      "execution_count": null,
      "metadata": {
        "colab": {
          "base_uri": "https://localhost:8080/"
        },
        "id": "YzQ2FFDShQko",
        "outputId": "3b143419-3b4f-4d2f-8c37-724334b188cd"
      },
      "outputs": [],
      "source": [
        "x = Flatten()(base_model.output)\n",
        "\n",
        "x = Dense(units = 4, activation=\"softmax\" )(x)\n",
        "\n",
        "#creating model\n",
        "model = Model (base_model.input, x)\n",
        "\n",
        "model.summary()"
      ]
    },
    {
      "cell_type": "code",
      "execution_count": null,
      "metadata": {
        "id": "Z7sAOBgd8MXe"
      },
      "outputs": [],
      "source": [
        "model.compile(optimizer=\"adam\", loss=keras.losses.categorical_crossentropy, metrics = ['accuracy'] )"
      ]
    },
    {
      "cell_type": "markdown",
      "metadata": {
        "id": "GaQYYPB06xLC"
      },
      "source": [
        "# Early stopping and Model check point"
      ]
    },
    {
      "cell_type": "code",
      "execution_count": null,
      "metadata": {
        "id": "7_SdIBrLiFFZ"
      },
      "outputs": [],
      "source": [
        "from keras.callbacks import ModelCheckpoint, EarlyStopping\n",
        "\n",
        "# ealry stopping\n",
        "\n",
        "es = EarlyStopping(monitor = \"val_accuracy\", min_delta = 0.01, patience = 1, verbose = 1)\n",
        "\n",
        "# model check point\n",
        "mc = ModelCheckpoint(filepath=\"best_model.h5\", save_best_only=True, \n",
        "                     monitor = \"val_accuracy\", min_delta = 0.01, patience = 1, verbose = 1 )\n",
        "\n",
        "\n",
        "cb = [es, mc]\n"
      ]
    },
    {
      "cell_type": "code",
      "execution_count": null,
      "metadata": {
        "colab": {
          "base_uri": "https://localhost:8080/"
        },
        "id": "X9QEZL6m7sQO",
        "outputId": "9d2a86ee-dcf1-4d71-c757-4582f3ed1b60"
      },
      "outputs": [],
      "source": [
        "his = model.fit_generator(train, \n",
        "                          steps_per_epoch=16, \n",
        "                          epochs=50, \n",
        "                          verbose=1, \n",
        "                          callbacks=cb, \n",
        "                          validation_data=val, \n",
        "                          validation_steps=16)"
      ]
    },
    {
      "cell_type": "code",
      "execution_count": null,
      "metadata": {
        "colab": {
          "base_uri": "https://localhost:8080/"
        },
        "id": "JsPiJ1aY9Y1X",
        "outputId": "980bf2f0-e957-47d8-d4b1-6bcfcbbcb537"
      },
      "outputs": [],
      "source": [
        "h = his.history\n",
        "h.keys()"
      ]
    },
    {
      "cell_type": "code",
      "execution_count": null,
      "metadata": {
        "colab": {
          "base_uri": "https://localhost:8080/",
          "height": 281
        },
        "id": "ZS4m31FsDEYD",
        "outputId": "c35c137b-5ee3-49c1-c55a-7ba7eff500cd"
      },
      "outputs": [],
      "source": [
        "plt.plot(h['accuracy'])\n",
        "plt.plot(h['val_accuracy'], c='red')\n",
        "plt.title(\"acc vs v-acc\")\n",
        "plt.show()"
      ]
    },
    {
      "cell_type": "code",
      "execution_count": null,
      "metadata": {
        "colab": {
          "base_uri": "https://localhost:8080/",
          "height": 281
        },
        "id": "zWFim-5qDhHw",
        "outputId": "84fb1aa8-29ef-4f06-b849-251e416dfb03"
      },
      "outputs": [],
      "source": [
        "plt.plot(h['loss'])\n",
        "plt.plot(h['val_loss'], c='red')\n",
        "plt.title(\"loss vs v-loss\")\n",
        "plt.show()"
      ]
    },
    {
      "cell_type": "code",
      "execution_count": null,
      "metadata": {
        "id": "tM0xcALSDsWP"
      },
      "outputs": [],
      "source": [
        "# load best models\n",
        "\n",
        "from keras.models import load_model\n",
        "\n",
        "model = load_model('/content/best_model.h5')"
      ]
    },
    {
      "cell_type": "code",
      "execution_count": null,
      "metadata": {
        "colab": {
          "base_uri": "https://localhost:8080/"
        },
        "id": "QByJhOGPD9bj",
        "outputId": "54dcd23c-e68b-4a16-e800-1f41c6412564"
      },
      "outputs": [],
      "source": [
        "acc = model.evaluate_generator(val)[1]\n",
        "\n",
        "print(f\"[INFO]: The accuracy of the model is: {acc * 100}%\")"
      ]
    },
    {
      "cell_type": "code",
      "execution_count": null,
      "metadata": {
        "id": "m9vuZpzbJXSf"
      },
      "outputs": [],
      "source": [
        "ref = dict(zip(list(train.class_indices.values()) ,list(train.class_indices.keys())))"
      ]
    },
    {
      "cell_type": "code",
      "execution_count": null,
      "metadata": {
        "id": "_Cs3zx4MHzh5"
      },
      "outputs": [],
      "source": [
        "def predict(path):\n",
        "  img = load_img(path, target_size=(256,256))\n",
        "  i = img_to_array(img)\n",
        "  im = preprocess_input(i)\n",
        "  img = np.expand_dims(im, axis = 0)\n",
        "  # print(img.shape)\n",
        "  pred = np.argmax(model.predict(img))\n",
        "  \n",
        "  print(f\"The Image belongs to: {ref[pred]}\")\n"
      ]
    },
    {
      "cell_type": "code",
      "execution_count": null,
      "metadata": {
        "colab": {
          "base_uri": "https://localhost:8080/"
        },
        "id": "Y-FW5KALIO1P",
        "outputId": "3c17d01c-e66e-4a5c-989d-6e4ef2b2f910"
      },
      "outputs": [],
      "source": [
        "path = \"/content/drive/MyDrive/data/test/fresh cotton plant/dsd (632).jpg\"\n",
        "predict(path)"
      ]
    },
    {
      "cell_type": "code",
      "execution_count": null,
      "metadata": {
        "colab": {
          "base_uri": "https://localhost:8080/"
        },
        "id": "RV-EPWJlIOsh",
        "outputId": "ae740c25-1c74-4fc3-a6d6-3962a3279f87"
      },
      "outputs": [],
      "source": []
    }
  ],
  "metadata": {
    "accelerator": "GPU",
    "colab": {
      "collapsed_sections": [],
      "name": "Untitled5.ipynb",
      "provenance": []
    },
    "kernelspec": {
      "display_name": "Python 3",
      "name": "python3"
    },
    "language_info": {
      "name": "python"
    }
  },
  "nbformat": 4,
  "nbformat_minor": 0
}
